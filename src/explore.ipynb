{
 "cells": [
  {
   "cell_type": "markdown",
   "metadata": {},
   "source": [
    "# Sistema de clasificación de imagenes (Solucion)"
   ]
  },
  {
   "cell_type": "code",
   "execution_count": 6,
   "metadata": {},
   "outputs": [
    {
     "name": "stderr",
     "output_type": "stream",
     "text": [
      "2024-11-27 07:32:24.378018: I external/local_xla/xla/tsl/cuda/cudart_stub.cc:32] Could not find cuda drivers on your machine, GPU will not be used.\n",
      "2024-11-27 07:32:25.866329: I external/local_xla/xla/tsl/cuda/cudart_stub.cc:32] Could not find cuda drivers on your machine, GPU will not be used.\n",
      "2024-11-27 07:32:26.068872: E external/local_xla/xla/stream_executor/cuda/cuda_fft.cc:477] Unable to register cuFFT factory: Attempting to register factory for plugin cuFFT when one has already been registered\n",
      "WARNING: All log messages before absl::InitializeLog() is called are written to STDERR\n",
      "E0000 00:00:1732692746.291741    2426 cuda_dnn.cc:8310] Unable to register cuDNN factory: Attempting to register factory for plugin cuDNN when one has already been registered\n",
      "E0000 00:00:1732692746.313898    2426 cuda_blas.cc:1418] Unable to register cuBLAS factory: Attempting to register factory for plugin cuBLAS when one has already been registered\n",
      "2024-11-27 07:32:26.452913: I tensorflow/core/platform/cpu_feature_guard.cc:210] This TensorFlow binary is optimized to use available CPU instructions in performance-critical operations.\n",
      "To enable the following instructions: AVX2 FMA, in other operations, rebuild TensorFlow with the appropriate compiler flags.\n"
     ]
    }
   ],
   "source": [
    "# Importar paquetes\n",
    "# pip install tensorflow\n",
    "\n",
    "\n",
    "import os\n",
    "import numpy as np\n",
    "import matplotlib.pyplot as plt\n",
    "from tensorflow import keras\n",
    "from keras.preprocessing import image"
   ]
  },
  {
   "cell_type": "code",
   "execution_count": 8,
   "metadata": {},
   "outputs": [
    {
     "ename": "FileNotFoundError",
     "evalue": "[Errno 2] No such file or directory: '../data/raw/dog'",
     "output_type": "error",
     "traceback": [
      "\u001b[0;31m---------------------------------------------------------------------------\u001b[0m",
      "\u001b[0;31mFileNotFoundError\u001b[0m                         Traceback (most recent call last)",
      "Cell \u001b[0;32mIn[8], line 10\u001b[0m\n\u001b[1;32m      7\u001b[0m dog_subfolder \u001b[38;5;241m=\u001b[39m os\u001b[38;5;241m.\u001b[39mpath\u001b[38;5;241m.\u001b[39mjoin(data_dir, \u001b[38;5;124m\"\u001b[39m\u001b[38;5;124mdog\u001b[39m\u001b[38;5;124m\"\u001b[39m)\n\u001b[1;32m      9\u001b[0m \u001b[38;5;66;03m# Obtener una lista de todos los nombres de archivos de imágenes de perros\u001b[39;00m\n\u001b[0;32m---> 10\u001b[0m dog_image_files \u001b[38;5;241m=\u001b[39m \u001b[43mos\u001b[49m\u001b[38;5;241;43m.\u001b[39;49m\u001b[43mlistdir\u001b[49m\u001b[43m(\u001b[49m\u001b[43mdog_subfolder\u001b[49m\u001b[43m)\u001b[49m\n\u001b[1;32m     12\u001b[0m \u001b[38;5;66;03m# Cargar las nueve primeras imágenes de perros\u001b[39;00m\n\u001b[1;32m     13\u001b[0m dog_images \u001b[38;5;241m=\u001b[39m []\n",
      "\u001b[0;31mFileNotFoundError\u001b[0m: [Errno 2] No such file or directory: '../data/raw/dog'"
     ]
    }
   ],
   "source": [
    "# Importar y comprobar las 9 primeras imágenes de perros\n",
    "\n",
    "# Ruta al directorio que contiene sus datos de imagen\n",
    "data_dir = \"../data/raw\"\n",
    "\n",
    "# Obtener una lista de todos los nombres de archivos de imágenes de perros\n",
    "dog_subfolder = os.path.join(data_dir, \"dog\")\n",
    "\n",
    "# Obtener una lista de todos los nombres de archivos de imágenes de perros\n",
    "dog_image_files = os.listdir(dog_subfolder)\n",
    "\n",
    "# Cargar las nueve primeras imágenes de perros\n",
    "dog_images = []\n",
    "for i in range(9):\n",
    "    img_path = os.path.join(dog_subfolder, dog_image_files[i])\n",
    "    img = image.load_img(img_path)  # Ajuste target_size según sea necesario\n",
    "    img_array = image.img_to_array(img)\n",
    "    img_array /= 255.0  # Normalice los valores de los píxeles a [0, 1].\n",
    "    dog_images.append(img_array)\n",
    "\n",
    "# Cree una única figura para mostrar las nueve imágenes\n",
    "plt.figure(figsize=(12, 8))\n",
    "\n",
    "for i in range(9):\n",
    "    plt.subplot(3, 3, i + 1)\n",
    "    plt.imshow(dog_images[i])\n",
    "    plt.title('Dog Image')\n",
    "    plt.axis('off')\n",
    "\n",
    "# Ajustar el diseño\n",
    "plt.tight_layout()\n",
    "\n",
    "# Mostrar las imágenes\n",
    "plt.show()"
   ]
  },
  {
   "cell_type": "code",
   "execution_count": null,
   "metadata": {},
   "outputs": [],
   "source": [
    "# Importar y comprobar las 9 primeras imágenes de gatos\n",
    "\n",
    "# Ruta al directorio que contiene sus datos de imagen\n",
    "data_dir = \"../data/raw\"\n",
    "\n",
    "# Obtener una lista de todos los nombres de archivos de imagen Cat\n",
    "cats_subfolder = os.path.join(data_dir, \"cat\")\n",
    "\n",
    "# Obtener una lista de todos los nombres de archivos de imagen Cat\n",
    "cats_image_files = os.listdir(cats_subfolder)\n",
    "\n",
    "# Cargar las nueve primeras imágenes de gato\n",
    "cats_images = []\n",
    "for i in range(min(9, len(cats_image_files))):  # Limitar a las imágenes de gato disponibles\n",
    "    img_path = os.path.join(cats_subfolder, cats_image_files[i])\n",
    "    img = image.load_img(img_path)\n",
    "    img_array = image.img_to_array(img)\n",
    "    img_array /= 255.0\n",
    "    cats_images.append(img_array)\n",
    "\n",
    "# Crear una única figura para mostrar todas las imágenes cat\n",
    "plt.figure(figsize=(12, 8))\n",
    "\n",
    "for i in range(len(cats_images)):\n",
    "    plt.subplot(3, 3, i + 1)\n",
    "    plt.imshow(cats_images[i])\n",
    "    plt.title('Cat Image')\n",
    "    plt.axis('off')\n",
    "\n",
    "# Ajustar el diseño\n",
    "plt.tight_layout()\n",
    "\n",
    "# Mostrar las imágenes\n",
    "plt.show()"
   ]
  },
  {
   "cell_type": "markdown",
   "metadata": {},
   "source": [
    "Crear los conjuntos de datos de imágenes"
   ]
  },
  {
   "cell_type": "code",
   "execution_count": null,
   "metadata": {},
   "outputs": [],
   "source": [
    "from keras.preprocessing.image import ImageDataGenerator\n",
    "\n",
    "# Definir algunas reglas para DataGen\n",
    "train_dir = \"../data/raw\"\n",
    "image_size = (200, 200)\n",
    "\n",
    "datagentrain = ImageDataGenerator()\n",
    "datagentest = ImageDataGenerator()\n",
    "\n",
    "# Generación de datos de entrenamiento\n",
    "train_data = datagentrain.flow_from_directory(\n",
    "    train_dir,\n",
    "    target_size = image_size,\n",
    "    classes = [\"dog\", \"cat\"] \n",
    ")\n",
    "\n",
    "# Generación de datos de prueba\n",
    "test_data = datagentest.flow_from_directory(\n",
    "    train_dir,\n",
    "    target_size = image_size,\n",
    "    classes = [\"test\"] \n",
    ")"
   ]
  },
  {
   "cell_type": "markdown",
   "metadata": {},
   "source": [
    "Entrenar al modelo"
   ]
  },
  {
   "cell_type": "code",
   "execution_count": null,
   "metadata": {},
   "outputs": [],
   "source": [
    "# Mover los datos a través de la red neuronal\n",
    "from keras.models import Sequential\n",
    "from keras.layers import Dense, Conv2D, MaxPool2D , Flatten\n",
    "\n",
    "model = Sequential()\n",
    "model.add(Conv2D(input_shape = (224,224,3), filters = 64, kernel_size = (3,3), padding = \"same\", activation = \"relu\"))\n",
    "model.add(Conv2D(filters = 64,kernel_size = (3,3),padding = \"same\", activation = \"relu\"))\n",
    "model.add(MaxPool2D(pool_size = (2,2),strides = (2,2)))\n",
    "model.add(Conv2D(filters = 128, kernel_size = (3,3), padding = \"same\", activation = \"relu\"))\n",
    "model.add(Conv2D(filters = 128, kernel_size = (3,3), padding = \"same\", activation = \"relu\"))\n",
    "model.add(MaxPool2D(pool_size = (2,2),strides = (2,2)))\n",
    "model.add(Conv2D(filters = 256, kernel_size = (3,3), padding = \"same\", activation = \"relu\"))\n",
    "model.add(Conv2D(filters = 256, kernel_size = (3,3), padding = \"same\", activation = \"relu\"))\n",
    "model.add(Conv2D(filters = 256, kernel_size = (3,3), padding = \"same\", activation = \"relu\"))\n",
    "model.add(MaxPool2D(pool_size = (2,2),strides = (2,2)))\n",
    "model.add(Conv2D(filters = 512, kernel_size = (3,3), padding = \"same\", activation = \"relu\"))\n",
    "model.add(Conv2D(filters = 512, kernel_size = (3,3), padding = \"same\", activation = \"relu\"))\n",
    "model.add(Conv2D(filters = 512, kernel_size = (3,3), padding = \"same\", activation = \"relu\"))\n",
    "model.add(MaxPool2D(pool_size = (2,2),strides = (2,2)))\n",
    "model.add(Conv2D(filters = 512, kernel_size = (3,3), padding = \"same\", activation = \"relu\"))\n",
    "model.add(Conv2D(filters = 512, kernel_size = (3,3), padding = \"same\", activation = \"relu\"))\n",
    "model.add(Conv2D(filters = 512, kernel_size = (3,3), padding = \"same\", activation = \"relu\"))\n",
    "model.add(MaxPool2D(pool_size = (2,2),strides = (2,2)))\n",
    "\n",
    "# Mover los datos por las capas densas\n",
    "model.add(Flatten())\n",
    "model.add(Dense(units = 4096,activation = \"relu\"))\n",
    "model.add(Dense(units = 4096,activation = \"relu\"))\n",
    "model.add(Dense(units = 2, activation = \"softmax\"))"
   ]
  },
  {
   "cell_type": "code",
   "execution_count": null,
   "metadata": {},
   "outputs": [],
   "source": [
    "# Compilar el modelo con Adam \n",
    "from keras.optimizers import Adam\n",
    "\n",
    "# Compilar el modelo antes del entrenamiento\n",
    "model.compile(loss = keras.losses.categorical_crossentropy, optimizer = Adam(learning_rate = 0.001), metrics = [\"accuracy\"])"
   ]
  },
  {
   "cell_type": "code",
   "execution_count": null,
   "metadata": {},
   "outputs": [],
   "source": [
    "# Entrenar el modelo\n",
    "model.fit(train_data, epochs = 1)"
   ]
  },
  {
   "cell_type": "markdown",
   "metadata": {},
   "source": [
    "Guardar nuestro modelo para utilizarlo más tarde"
   ]
  },
  {
   "cell_type": "code",
   "execution_count": null,
   "metadata": {},
   "outputs": [],
   "source": [
    "from keras.callbacks import ModelCheckpoint, EarlyStopping\n",
    "\n",
    "checkpoint = ModelCheckpoint(\"../models/vgg16_1.h5\", monitor = \"val_accuracy\", verbose = 1, save_best_only = True, save_weights_only = False, mode = \"auto\")\n",
    "early = EarlyStopping(monitor = \"val_accuracy\", patience = 3, verbose = 1, mode = \"auto\")\n",
    "hist = model.fit(train_data, steps_per_epoch = 100, validation_data = test_data, validation_steps = 10, epochs = 3, callbacks = [c"
   ]
  },
  {
   "cell_type": "code",
   "execution_count": null,
   "metadata": {},
   "outputs": [],
   "source": [
    "# Comprobar la exactitud de los datos\n",
    "\n",
    "# Trazar los resultados\n",
    "plt.plot(hist.history[\"accuracy\"])\n",
    "plt.plot(hist.history[\"val_accuracy\"])\n",
    "plt.plot(hist.history[\"loss\"])\n",
    "plt.plot(hist.history[\"val_loss\"])\n",
    "\n",
    "# Configurar el diseño del gráfico\n",
    "plt.title(\"Model Accuracy\")\n",
    "plt.ylabel(\"Accuracy\")\n",
    "plt.xlabel(\"Epoch\")\n",
    "plt.legend([\"Accuracy\", \"Validation Accuracy\", \"Loss\", \"Validation Loss\"])\n",
    "\n",
    "# Trazar\n",
    "plt.show()"
   ]
  },
  {
   "cell_type": "markdown",
   "metadata": {},
   "source": [
    "Intenta predecir las imágenes"
   ]
  },
  {
   "cell_type": "code",
   "execution_count": null,
   "metadata": {},
   "outputs": [],
   "source": [
    "from keras.preprocessing import image\n",
    "from keras.models import load_model\n",
    "\n",
    "img = image.load_img(\"../data/raw/test/9.jpg\", target_size = (200, 200))\n",
    "img = np.asarray(img)\n",
    "plt.imshow(img)\n",
    "img = np.expand_dims(img, axis = 0)\n",
    "saved_model = load_model(\"../models/vgg16_1.h5\")\n",
    "output = saved_model.predict(img)\n",
    "if output[0][0] > output[0][1]:\n",
    "    print(\"cat\")\n",
    "else:\n",
    "    print(\"dog\")"
   ]
  }
 ],
 "metadata": {
  "kernelspec": {
   "display_name": "Python 3",
   "language": "python",
   "name": "python3"
  },
  "language_info": {
   "codemirror_mode": {
    "name": "ipython",
    "version": 3
   },
   "file_extension": ".py",
   "mimetype": "text/x-python",
   "name": "python",
   "nbconvert_exporter": "python",
   "pygments_lexer": "ipython3",
   "version": "3.10.12"
  },
  "orig_nbformat": 4
 },
 "nbformat": 4,
 "nbformat_minor": 2
}
